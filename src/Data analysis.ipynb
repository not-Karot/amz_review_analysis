{
 "cells": [
  {
   "cell_type": "markdown",
   "metadata": {},
   "source": [
    "## Analisi e pulizia dei dati"
   ]
  },
  {
   "cell_type": "code",
   "execution_count": 2,
   "metadata": {
    "ExecuteTime": {
     "start_time": "2023-05-06T11:13:14.777145Z",
     "end_time": "2023-05-06T11:13:14.778935Z"
    }
   },
   "outputs": [],
   "source": [
    "import pandas as pd"
   ]
  },
  {
   "cell_type": "code",
   "execution_count": 40,
   "metadata": {
    "ExecuteTime": {
     "start_time": "2023-05-06T11:32:46.150579Z",
     "end_time": "2023-05-06T11:32:50.466383Z"
    }
   },
   "outputs": [
    {
     "data": {
      "text/plain": "   Id   ProductId          UserId                      ProfileName  \\\n0   1  B001E4KFG0  A3SGXH7AUHU8GW                       delmartian   \n1   2  B00813GRG4  A1D87F6ZCVE5NK                           dll pa   \n2   3  B000LQOCH0   ABXLMWJIXXAIN  Natalia Corres \"Natalia Corres\"   \n3   4  B000UA0QIQ  A395BORC6FGVXV                             Karl   \n4   5  B006K2ZZ7K  A1UQRSCLF8GW1T    Michael D. Bigham \"M. Wassir\"   \n\n   HelpfulnessNumerator  HelpfulnessDenominator  Score        Time  \\\n0                     1                       1      5  1303862400   \n1                     0                       0      1  1346976000   \n2                     1                       1      4  1219017600   \n3                     3                       3      2  1307923200   \n4                     0                       0      5  1350777600   \n\n                 Summary                                               Text  \n0  Good Quality Dog Food  I have bought several of the Vitality canned d...  \n1      Not as Advertised  Product arrived labeled as Jumbo Salted Peanut...  \n2  \"Delight\" says it all  This is a confection that has been around a fe...  \n3         Cough Medicine  If you are looking for the secret ingredient i...  \n4            Great taffy  Great taffy at a great price.  There was a wid...  ",
      "text/html": "<div>\n<style scoped>\n    .dataframe tbody tr th:only-of-type {\n        vertical-align: middle;\n    }\n\n    .dataframe tbody tr th {\n        vertical-align: top;\n    }\n\n    .dataframe thead th {\n        text-align: right;\n    }\n</style>\n<table border=\"1\" class=\"dataframe\">\n  <thead>\n    <tr style=\"text-align: right;\">\n      <th></th>\n      <th>Id</th>\n      <th>ProductId</th>\n      <th>UserId</th>\n      <th>ProfileName</th>\n      <th>HelpfulnessNumerator</th>\n      <th>HelpfulnessDenominator</th>\n      <th>Score</th>\n      <th>Time</th>\n      <th>Summary</th>\n      <th>Text</th>\n    </tr>\n  </thead>\n  <tbody>\n    <tr>\n      <th>0</th>\n      <td>1</td>\n      <td>B001E4KFG0</td>\n      <td>A3SGXH7AUHU8GW</td>\n      <td>delmartian</td>\n      <td>1</td>\n      <td>1</td>\n      <td>5</td>\n      <td>1303862400</td>\n      <td>Good Quality Dog Food</td>\n      <td>I have bought several of the Vitality canned d...</td>\n    </tr>\n    <tr>\n      <th>1</th>\n      <td>2</td>\n      <td>B00813GRG4</td>\n      <td>A1D87F6ZCVE5NK</td>\n      <td>dll pa</td>\n      <td>0</td>\n      <td>0</td>\n      <td>1</td>\n      <td>1346976000</td>\n      <td>Not as Advertised</td>\n      <td>Product arrived labeled as Jumbo Salted Peanut...</td>\n    </tr>\n    <tr>\n      <th>2</th>\n      <td>3</td>\n      <td>B000LQOCH0</td>\n      <td>ABXLMWJIXXAIN</td>\n      <td>Natalia Corres \"Natalia Corres\"</td>\n      <td>1</td>\n      <td>1</td>\n      <td>4</td>\n      <td>1219017600</td>\n      <td>\"Delight\" says it all</td>\n      <td>This is a confection that has been around a fe...</td>\n    </tr>\n    <tr>\n      <th>3</th>\n      <td>4</td>\n      <td>B000UA0QIQ</td>\n      <td>A395BORC6FGVXV</td>\n      <td>Karl</td>\n      <td>3</td>\n      <td>3</td>\n      <td>2</td>\n      <td>1307923200</td>\n      <td>Cough Medicine</td>\n      <td>If you are looking for the secret ingredient i...</td>\n    </tr>\n    <tr>\n      <th>4</th>\n      <td>5</td>\n      <td>B006K2ZZ7K</td>\n      <td>A1UQRSCLF8GW1T</td>\n      <td>Michael D. Bigham \"M. Wassir\"</td>\n      <td>0</td>\n      <td>0</td>\n      <td>5</td>\n      <td>1350777600</td>\n      <td>Great taffy</td>\n      <td>Great taffy at a great price.  There was a wid...</td>\n    </tr>\n  </tbody>\n</table>\n</div>"
     },
     "execution_count": 40,
     "metadata": {},
     "output_type": "execute_result"
    }
   ],
   "source": [
    "reviews = pd.read_csv('./../archive/Reviews.csv')\n",
    "reviews.head()"
   ]
  },
  {
   "cell_type": "code",
   "execution_count": 6,
   "metadata": {
    "ExecuteTime": {
     "start_time": "2023-05-06T11:14:03.308093Z",
     "end_time": "2023-05-06T11:14:03.761195Z"
    }
   },
   "outputs": [
    {
     "data": {
      "text/plain": "Id                         0\nProductId                  0\nUserId                     0\nProfileName               16\nHelpfulnessNumerator       0\nHelpfulnessDenominator     0\nScore                      0\nTime                       0\nSummary                   27\nText                       0\ndtype: int64"
     },
     "execution_count": 6,
     "metadata": {},
     "output_type": "execute_result"
    }
   ],
   "source": [
    "reviews.isnull().sum()"
   ]
  },
  {
   "cell_type": "markdown",
   "source": [
    "### Nel dataset sono presenti dati nulli nelle colonne **ProfileName** e **Summary** che non intaccano lo svolgimento dei Jobs"
   ],
   "metadata": {
    "collapsed": false
   }
  },
  {
   "cell_type": "code",
   "execution_count": 42,
   "metadata": {
    "ExecuteTime": {
     "start_time": "2023-05-06T11:33:44.754505Z",
     "end_time": "2023-05-06T11:33:45.159769Z"
    }
   },
   "outputs": [],
   "source": [
    "reviews_job1 = reviews.copy(deep=True)\n",
    "reviews_job2 = reviews.copy(deep=True)\n",
    "reviews_job3 = reviews.copy(deep=True)"
   ]
  },
  {
   "cell_type": "markdown",
   "metadata": {},
   "source": [
    "### Per il Job1 abbiamo bisogno delle colonne **ProductID**, **Time** e **Text**"
   ]
  },
  {
   "cell_type": "code",
   "execution_count": 8,
   "metadata": {
    "ExecuteTime": {
     "start_time": "2023-05-06T11:17:16.850084Z",
     "end_time": "2023-05-06T11:17:17.090460Z"
    }
   },
   "outputs": [
    {
     "data": {
      "text/plain": "    ProductId        Time                                               Text\n0  B001E4KFG0  1303862400  I have bought several of the Vitality canned d...\n1  B00813GRG4  1346976000  Product arrived labeled as Jumbo Salted Peanut...\n2  B000LQOCH0  1219017600  This is a confection that has been around a fe...\n3  B000UA0QIQ  1307923200  If you are looking for the secret ingredient i...\n4  B006K2ZZ7K  1350777600  Great taffy at a great price.  There was a wid...",
      "text/html": "<div>\n<style scoped>\n    .dataframe tbody tr th:only-of-type {\n        vertical-align: middle;\n    }\n\n    .dataframe tbody tr th {\n        vertical-align: top;\n    }\n\n    .dataframe thead th {\n        text-align: right;\n    }\n</style>\n<table border=\"1\" class=\"dataframe\">\n  <thead>\n    <tr style=\"text-align: right;\">\n      <th></th>\n      <th>ProductId</th>\n      <th>Time</th>\n      <th>Text</th>\n    </tr>\n  </thead>\n  <tbody>\n    <tr>\n      <th>0</th>\n      <td>B001E4KFG0</td>\n      <td>1303862400</td>\n      <td>I have bought several of the Vitality canned d...</td>\n    </tr>\n    <tr>\n      <th>1</th>\n      <td>B00813GRG4</td>\n      <td>1346976000</td>\n      <td>Product arrived labeled as Jumbo Salted Peanut...</td>\n    </tr>\n    <tr>\n      <th>2</th>\n      <td>B000LQOCH0</td>\n      <td>1219017600</td>\n      <td>This is a confection that has been around a fe...</td>\n    </tr>\n    <tr>\n      <th>3</th>\n      <td>B000UA0QIQ</td>\n      <td>1307923200</td>\n      <td>If you are looking for the secret ingredient i...</td>\n    </tr>\n    <tr>\n      <th>4</th>\n      <td>B006K2ZZ7K</td>\n      <td>1350777600</td>\n      <td>Great taffy at a great price.  There was a wid...</td>\n    </tr>\n  </tbody>\n</table>\n</div>"
     },
     "execution_count": 8,
     "metadata": {},
     "output_type": "execute_result"
    }
   ],
   "source": [
    "reviews_job1.drop(['Id', 'UserId', 'Score', 'ProfileName', 'HelpfulnessNumerator', 'HelpfulnessDenominator', 'Summary'], inplace = True, axis = 1)\n",
    "reviews_job1.head()"
   ]
  },
  {
   "cell_type": "markdown",
   "metadata": {},
   "source": [
    "#### Il testo contiene punteggiatura e tag HTML che dovranno essere rimossi\n",
    "#### La colonna time andrà convertita di formato per individuare l'anno di riferimento"
   ]
  },
  {
   "cell_type": "code",
   "execution_count": 14,
   "metadata": {
    "ExecuteTime": {
     "start_time": "2023-05-06T11:18:46.319513Z",
     "end_time": "2023-05-06T11:18:46.322615Z"
    }
   },
   "outputs": [
    {
     "data": {
      "text/plain": "\"I have never been a huge coffee fan. However, my mother purchased this little machine and talked me into trying the Latte Macciato. No Coffee Shop has a better one and I like most of the other products, too (as a usually non-coffee drinker!).<br />The little Dolche Guesto Machine is super easy to use and prepares a really good Coffee/Latte/Cappuccino/etc in less than a minute (if water is heated up). I would recommend the Dolce Gusto to anyone. Too good for the price and I'am getting one myself! :)\""
     },
     "execution_count": 14,
     "metadata": {},
     "output_type": "execute_result"
    }
   ],
   "source": [
    "reviews_job1.Text[30]"
   ]
  },
  {
   "cell_type": "markdown",
   "metadata": {},
   "source": [
    "##### Funzione per creare file di diverse dimensioni da utilizzare nei Job"
   ]
  },
  {
   "cell_type": "code",
   "execution_count": 23,
   "metadata": {
    "ExecuteTime": {
     "start_time": "2023-05-06T11:24:37.907537Z",
     "end_time": "2023-05-06T11:24:37.908142Z"
    }
   },
   "outputs": [],
   "source": [
    "dataset_sizes = [0.5, 1, 2, 5, 10]\n",
    "\n",
    "def create_datasets(dataset, job):\n",
    "    for size in dataset_sizes:\n",
    "        n_rows = round(dataset.shape[0] * size)\n",
    "        sampled_df = dataset.sample(n=n_rows, random_state=42, replace=True)\n",
    "        filename = f'./input/reviews_{job}_dim_{str(size).replace(\".\", \"\")}.csv'\n",
    "        sampled_df.to_csv(filename, header=None, index=None, sep='\\t', mode='w')\n"
   ]
  },
  {
   "cell_type": "code",
   "execution_count": 24,
   "metadata": {
    "ExecuteTime": {
     "start_time": "2023-05-06T11:24:47.568588Z",
     "end_time": "2023-05-06T11:26:22.297184Z"
    }
   },
   "outputs": [],
   "source": [
    "create_datasets(reviews_job1, 'job1')"
   ]
  },
  {
   "cell_type": "code",
   "execution_count": 41,
   "metadata": {
    "ExecuteTime": {
     "start_time": "2023-05-06T11:33:13.968066Z",
     "end_time": "2023-05-06T11:33:44.750770Z"
    }
   },
   "outputs": [
    {
     "data": {
      "text/plain": "            0           1                                                  2\n0  B003M63C0E  1338336000  I have 5-7 dogs at any given time, sometimes f...\n1  B000CQIDHY  1297123200  I already liked regular Stash Earl Grey and so...\n2  B001EQ55MM  1199577600  eight oclock makes great coffee and with balan...\n3  B001PICX42  1309910400  I bought these for my kids but find myself eat...\n4  B000B6MV9Q  1325203200  This is very good and just like the gourmet on...",
      "text/html": "<div>\n<style scoped>\n    .dataframe tbody tr th:only-of-type {\n        vertical-align: middle;\n    }\n\n    .dataframe tbody tr th {\n        vertical-align: top;\n    }\n\n    .dataframe thead th {\n        text-align: right;\n    }\n</style>\n<table border=\"1\" class=\"dataframe\">\n  <thead>\n    <tr style=\"text-align: right;\">\n      <th></th>\n      <th>0</th>\n      <th>1</th>\n      <th>2</th>\n    </tr>\n  </thead>\n  <tbody>\n    <tr>\n      <th>0</th>\n      <td>B003M63C0E</td>\n      <td>1338336000</td>\n      <td>I have 5-7 dogs at any given time, sometimes f...</td>\n    </tr>\n    <tr>\n      <th>1</th>\n      <td>B000CQIDHY</td>\n      <td>1297123200</td>\n      <td>I already liked regular Stash Earl Grey and so...</td>\n    </tr>\n    <tr>\n      <th>2</th>\n      <td>B001EQ55MM</td>\n      <td>1199577600</td>\n      <td>eight oclock makes great coffee and with balan...</td>\n    </tr>\n    <tr>\n      <th>3</th>\n      <td>B001PICX42</td>\n      <td>1309910400</td>\n      <td>I bought these for my kids but find myself eat...</td>\n    </tr>\n    <tr>\n      <th>4</th>\n      <td>B000B6MV9Q</td>\n      <td>1325203200</td>\n      <td>This is very good and just like the gourmet on...</td>\n    </tr>\n  </tbody>\n</table>\n</div>"
     },
     "execution_count": 41,
     "metadata": {},
     "output_type": "execute_result"
    }
   ],
   "source": [
    "reviews_job1_10 = pd.read_csv('./input/reviews_job1_dim_10.csv', sep=\"\\t\", header=None)\n",
    "reviews_job1_10.head()"
   ]
  },
  {
   "cell_type": "markdown",
   "metadata": {},
   "source": [
    "### Per il Job2 abbiamo bisogno delle colonne **UserId**, **HelpfulnessDenominator** e **HelpfulnessNumerator**"
   ]
  },
  {
   "cell_type": "code",
   "execution_count": 44,
   "metadata": {
    "ExecuteTime": {
     "start_time": "2023-05-06T11:33:45.325977Z",
     "end_time": "2023-05-06T11:33:45.373173Z"
    }
   },
   "outputs": [
    {
     "data": {
      "text/plain": "           UserId  HelpfulnessNumerator  HelpfulnessDenominator\n0  A3SGXH7AUHU8GW                     1                       1\n1  A1D87F6ZCVE5NK                     0                       0\n2   ABXLMWJIXXAIN                     1                       1\n3  A395BORC6FGVXV                     3                       3\n4  A1UQRSCLF8GW1T                     0                       0",
      "text/html": "<div>\n<style scoped>\n    .dataframe tbody tr th:only-of-type {\n        vertical-align: middle;\n    }\n\n    .dataframe tbody tr th {\n        vertical-align: top;\n    }\n\n    .dataframe thead th {\n        text-align: right;\n    }\n</style>\n<table border=\"1\" class=\"dataframe\">\n  <thead>\n    <tr style=\"text-align: right;\">\n      <th></th>\n      <th>UserId</th>\n      <th>HelpfulnessNumerator</th>\n      <th>HelpfulnessDenominator</th>\n    </tr>\n  </thead>\n  <tbody>\n    <tr>\n      <th>0</th>\n      <td>A3SGXH7AUHU8GW</td>\n      <td>1</td>\n      <td>1</td>\n    </tr>\n    <tr>\n      <th>1</th>\n      <td>A1D87F6ZCVE5NK</td>\n      <td>0</td>\n      <td>0</td>\n    </tr>\n    <tr>\n      <th>2</th>\n      <td>ABXLMWJIXXAIN</td>\n      <td>1</td>\n      <td>1</td>\n    </tr>\n    <tr>\n      <th>3</th>\n      <td>A395BORC6FGVXV</td>\n      <td>3</td>\n      <td>3</td>\n    </tr>\n    <tr>\n      <th>4</th>\n      <td>A1UQRSCLF8GW1T</td>\n      <td>0</td>\n      <td>0</td>\n    </tr>\n  </tbody>\n</table>\n</div>"
     },
     "execution_count": 44,
     "metadata": {},
     "output_type": "execute_result"
    }
   ],
   "source": [
    "reviews_job2.drop(['Id', 'ProfileName', 'ProductId', 'Score', 'Time', 'Summary', 'Text'], inplace = True, axis = 1)\n",
    "reviews_job2.head()"
   ]
  },
  {
   "cell_type": "code",
   "execution_count": 34,
   "metadata": {
    "ExecuteTime": {
     "start_time": "2023-05-06T11:30:12.696270Z",
     "end_time": "2023-05-06T11:30:28.625585Z"
    }
   },
   "outputs": [],
   "source": [
    "create_datasets(reviews_job2, 'job2')"
   ]
  },
  {
   "cell_type": "code",
   "execution_count": 43,
   "metadata": {
    "ExecuteTime": {
     "start_time": "2023-05-06T11:33:45.163254Z",
     "end_time": "2023-05-06T11:33:45.321841Z"
    }
   },
   "outputs": [
    {
     "data": {
      "text/plain": "                     0   1   2\n0       A27L3LYLHCQZYG   2   2\n1       A1AES697PC2IW5   0   0\n2       A1Q99N7YEJ6CZJ   0   0\n3       A3RJVINZDBOUNE   0   0\n4       A2LN6GJQI1S9EW   0   0\n...                ...  ..  ..\n284222   A9JLE9BISQFUB   0   0\n284223   AH7B7I1EQ0386   0   1\n284224  A3QU9R1IZY03ZR   2   6\n284225  A1JEY42M785KI7  60  62\n284226  A26SH3U0VKRY64   0   0\n\n[284227 rows x 3 columns]",
      "text/html": "<div>\n<style scoped>\n    .dataframe tbody tr th:only-of-type {\n        vertical-align: middle;\n    }\n\n    .dataframe tbody tr th {\n        vertical-align: top;\n    }\n\n    .dataframe thead th {\n        text-align: right;\n    }\n</style>\n<table border=\"1\" class=\"dataframe\">\n  <thead>\n    <tr style=\"text-align: right;\">\n      <th></th>\n      <th>0</th>\n      <th>1</th>\n      <th>2</th>\n    </tr>\n  </thead>\n  <tbody>\n    <tr>\n      <th>0</th>\n      <td>A27L3LYLHCQZYG</td>\n      <td>2</td>\n      <td>2</td>\n    </tr>\n    <tr>\n      <th>1</th>\n      <td>A1AES697PC2IW5</td>\n      <td>0</td>\n      <td>0</td>\n    </tr>\n    <tr>\n      <th>2</th>\n      <td>A1Q99N7YEJ6CZJ</td>\n      <td>0</td>\n      <td>0</td>\n    </tr>\n    <tr>\n      <th>3</th>\n      <td>A3RJVINZDBOUNE</td>\n      <td>0</td>\n      <td>0</td>\n    </tr>\n    <tr>\n      <th>4</th>\n      <td>A2LN6GJQI1S9EW</td>\n      <td>0</td>\n      <td>0</td>\n    </tr>\n    <tr>\n      <th>...</th>\n      <td>...</td>\n      <td>...</td>\n      <td>...</td>\n    </tr>\n    <tr>\n      <th>284222</th>\n      <td>A9JLE9BISQFUB</td>\n      <td>0</td>\n      <td>0</td>\n    </tr>\n    <tr>\n      <th>284223</th>\n      <td>AH7B7I1EQ0386</td>\n      <td>0</td>\n      <td>1</td>\n    </tr>\n    <tr>\n      <th>284224</th>\n      <td>A3QU9R1IZY03ZR</td>\n      <td>2</td>\n      <td>6</td>\n    </tr>\n    <tr>\n      <th>284225</th>\n      <td>A1JEY42M785KI7</td>\n      <td>60</td>\n      <td>62</td>\n    </tr>\n    <tr>\n      <th>284226</th>\n      <td>A26SH3U0VKRY64</td>\n      <td>0</td>\n      <td>0</td>\n    </tr>\n  </tbody>\n</table>\n<p>284227 rows × 3 columns</p>\n</div>"
     },
     "execution_count": 43,
     "metadata": {},
     "output_type": "execute_result"
    }
   ],
   "source": [
    "reviews_job2_05 = pd.read_csv('./input/reviews_job2_dim_05.csv', sep=\"\\t\", header=None)\n",
    "reviews_job2_05"
   ]
  },
  {
   "cell_type": "markdown",
   "source": [
    "### Per il Job3 abbiamo bisogno delle colonne **UserId** e **Score**"
   ],
   "metadata": {
    "collapsed": false
   }
  },
  {
   "cell_type": "code",
   "execution_count": 36,
   "outputs": [
    {
     "data": {
      "text/plain": "           UserId  Score\n0  A3SGXH7AUHU8GW      5\n1  A1D87F6ZCVE5NK      1\n2   ABXLMWJIXXAIN      4\n3  A395BORC6FGVXV      2\n4  A1UQRSCLF8GW1T      5",
      "text/html": "<div>\n<style scoped>\n    .dataframe tbody tr th:only-of-type {\n        vertical-align: middle;\n    }\n\n    .dataframe tbody tr th {\n        vertical-align: top;\n    }\n\n    .dataframe thead th {\n        text-align: right;\n    }\n</style>\n<table border=\"1\" class=\"dataframe\">\n  <thead>\n    <tr style=\"text-align: right;\">\n      <th></th>\n      <th>UserId</th>\n      <th>Score</th>\n    </tr>\n  </thead>\n  <tbody>\n    <tr>\n      <th>0</th>\n      <td>A3SGXH7AUHU8GW</td>\n      <td>5</td>\n    </tr>\n    <tr>\n      <th>1</th>\n      <td>A1D87F6ZCVE5NK</td>\n      <td>1</td>\n    </tr>\n    <tr>\n      <th>2</th>\n      <td>ABXLMWJIXXAIN</td>\n      <td>4</td>\n    </tr>\n    <tr>\n      <th>3</th>\n      <td>A395BORC6FGVXV</td>\n      <td>2</td>\n    </tr>\n    <tr>\n      <th>4</th>\n      <td>A1UQRSCLF8GW1T</td>\n      <td>5</td>\n    </tr>\n  </tbody>\n</table>\n</div>"
     },
     "execution_count": 36,
     "metadata": {},
     "output_type": "execute_result"
    }
   ],
   "source": [
    "reviews_job3.drop(['Id', 'ProfileName', 'ProductId', 'HelpfulnessDenominator', 'HelpfulnessNumerator', 'Time', 'Summary', 'Text'], inplace = True, axis = 1)\n",
    "reviews_job3.head()"
   ],
   "metadata": {
    "collapsed": false,
    "ExecuteTime": {
     "start_time": "2023-05-06T11:31:21.761086Z",
     "end_time": "2023-05-06T11:31:22.599387Z"
    }
   }
  },
  {
   "cell_type": "code",
   "execution_count": 37,
   "outputs": [],
   "source": [
    "create_datasets(reviews_job3, 'job3')"
   ],
   "metadata": {
    "collapsed": false,
    "ExecuteTime": {
     "start_time": "2023-05-06T11:31:38.339672Z",
     "end_time": "2023-05-06T11:31:52.462326Z"
    }
   }
  },
  {
   "cell_type": "code",
   "execution_count": 38,
   "outputs": [
    {
     "data": {
      "text/plain": "                     0  1\n0       A27L3LYLHCQZYG  5\n1       A1AES697PC2IW5  5\n2       A1Q99N7YEJ6CZJ  5\n3       A3RJVINZDBOUNE  5\n4       A2LN6GJQI1S9EW  4\n...                ... ..\n568449  A3KJ9TZ2HLL7SA  5\n568450   A54D9YSTLFQQE  5\n568451   AWNRK5U5VSD0Q  5\n568452  A3W1H0DC7KMRU6  4\n568453   ALVV249XN8FER  5\n\n[568454 rows x 2 columns]",
      "text/html": "<div>\n<style scoped>\n    .dataframe tbody tr th:only-of-type {\n        vertical-align: middle;\n    }\n\n    .dataframe tbody tr th {\n        vertical-align: top;\n    }\n\n    .dataframe thead th {\n        text-align: right;\n    }\n</style>\n<table border=\"1\" class=\"dataframe\">\n  <thead>\n    <tr style=\"text-align: right;\">\n      <th></th>\n      <th>0</th>\n      <th>1</th>\n    </tr>\n  </thead>\n  <tbody>\n    <tr>\n      <th>0</th>\n      <td>A27L3LYLHCQZYG</td>\n      <td>5</td>\n    </tr>\n    <tr>\n      <th>1</th>\n      <td>A1AES697PC2IW5</td>\n      <td>5</td>\n    </tr>\n    <tr>\n      <th>2</th>\n      <td>A1Q99N7YEJ6CZJ</td>\n      <td>5</td>\n    </tr>\n    <tr>\n      <th>3</th>\n      <td>A3RJVINZDBOUNE</td>\n      <td>5</td>\n    </tr>\n    <tr>\n      <th>4</th>\n      <td>A2LN6GJQI1S9EW</td>\n      <td>4</td>\n    </tr>\n    <tr>\n      <th>...</th>\n      <td>...</td>\n      <td>...</td>\n    </tr>\n    <tr>\n      <th>568449</th>\n      <td>A3KJ9TZ2HLL7SA</td>\n      <td>5</td>\n    </tr>\n    <tr>\n      <th>568450</th>\n      <td>A54D9YSTLFQQE</td>\n      <td>5</td>\n    </tr>\n    <tr>\n      <th>568451</th>\n      <td>AWNRK5U5VSD0Q</td>\n      <td>5</td>\n    </tr>\n    <tr>\n      <th>568452</th>\n      <td>A3W1H0DC7KMRU6</td>\n      <td>4</td>\n    </tr>\n    <tr>\n      <th>568453</th>\n      <td>ALVV249XN8FER</td>\n      <td>5</td>\n    </tr>\n  </tbody>\n</table>\n<p>568454 rows × 2 columns</p>\n</div>"
     },
     "execution_count": 38,
     "metadata": {},
     "output_type": "execute_result"
    }
   ],
   "source": [
    "reviews_job3_1 = pd.read_csv('./input/reviews_job3_dim_1.csv', sep=\"\\t\", header=None)\n",
    "reviews_job3_1"
   ],
   "metadata": {
    "collapsed": false,
    "ExecuteTime": {
     "start_time": "2023-05-06T11:32:12.180946Z",
     "end_time": "2023-05-06T11:32:12.497628Z"
    }
   }
  },
  {
   "cell_type": "code",
   "execution_count": null,
   "outputs": [],
   "source": [],
   "metadata": {
    "collapsed": false
   }
  }
 ],
 "metadata": {
  "interpreter": {
   "hash": "ddacd16ca7b5d1ec3d04d14cb332886a4c5b0290015d3fa549433c5b0a5f02d7"
  },
  "kernelspec": {
   "display_name": "Python 3.8.5 ('base')",
   "language": "python",
   "name": "python3"
  },
  "language_info": {
   "codemirror_mode": {
    "name": "ipython",
    "version": 3
   },
   "file_extension": ".py",
   "mimetype": "text/x-python",
   "name": "python",
   "nbconvert_exporter": "python",
   "pygments_lexer": "ipython3",
   "version": "3.8.5"
  },
  "orig_nbformat": 4
 },
 "nbformat": 4,
 "nbformat_minor": 2
}
